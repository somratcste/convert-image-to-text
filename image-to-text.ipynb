{
 "cells": [
  {
   "cell_type": "code",
   "execution_count": null,
   "metadata": {},
   "outputs": [],
   "source": [
    "import cv2\n",
    "import pytesseract \n",
    "pytesseract.pytesseract.tesseract_cmd=r'C:\\Program Files\\Tesseract-OCR\\tesseract.exe'"
   ]
  },
  {
   "cell_type": "code",
   "execution_count": null,
   "metadata": {},
   "outputs": [],
   "source": [
    "from pdf2image import convert_from_path, convert_from_bytes\n",
    "images = convert_from_path('syllabus.pdf')"
   ]
  },
  {
   "cell_type": "code",
   "execution_count": null,
   "metadata": {},
   "outputs": [],
   "source": [
    "# from docx import Document\n",
    "# document = Document()\n",
    "import re\n",
    "var = 1\n",
    "for image in images:\n",
    "    var = var +1\n",
    "    image.save('image.jpg', 'JPEG')\n",
    "    img = cv2.imread('v.jpg')\n",
    "    text = pytesseract.image_to_string(img)\n",
    "    print(text)\n",
    "    newString = ''\n",
    "    for line in text.split('\\n'):\n",
    "        if(len(line) > 2):\n",
    "            newString +=line\n",
    "            newString += ' '\n",
    "        if(len(line) == 0):\n",
    "            newString += '\\n'\n",
    "    with open(\"test.txt\", \"a\") as myfile:\n",
    "        myfile.write(newString)\n",
    "# pattern = re.compile(r'.?')\n",
    "# matches = pattern.finditer(exampleString)\n",
    "# for match in matches: \n",
    "#     print(match)\n",
    "# document.save('syllabus.docx')"
   ]
  },
  {
   "cell_type": "code",
   "execution_count": 5,
   "metadata": {},
   "outputs": [],
   "source": [
    "import os\n",
    "import img2pdf\n",
    "with open(\"output.pdf\", \"wb\") as f:\n",
    "    f.write(img2pdf.convert([i for i in os.listdir('.') if i.endswith(\".jpg\")]))"
   ]
  },
  {
   "cell_type": "code",
   "execution_count": null,
   "metadata": {},
   "outputs": [],
   "source": []
  }
 ],
 "metadata": {
  "kernelspec": {
   "display_name": "Python 3",
   "language": "python",
   "name": "python3"
  },
  "language_info": {
   "codemirror_mode": {
    "name": "ipython",
    "version": 3
   },
   "file_extension": ".py",
   "mimetype": "text/x-python",
   "name": "python",
   "nbconvert_exporter": "python",
   "pygments_lexer": "ipython3",
   "version": "3.7.4"
  }
 },
 "nbformat": 4,
 "nbformat_minor": 2
}
